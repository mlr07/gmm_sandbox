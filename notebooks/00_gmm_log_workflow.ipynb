{
 "metadata": {
  "language_info": {
   "codemirror_mode": {
    "name": "ipython",
    "version": 3
   },
   "file_extension": ".py",
   "mimetype": "text/x-python",
   "name": "python",
   "nbconvert_exporter": "python",
   "pygments_lexer": "ipython3",
   "version": "3.8.0-final"
  },
  "orig_nbformat": 2,
  "kernelspec": {
   "name": "python3",
   "display_name": "Python 3",
   "language": "python"
  }
 },
 "nbformat": 4,
 "nbformat_minor": 2,
 "cells": [
  {
   "source": [
    "## gmm sandbox\n",
    "\n",
    "focus on making modules and importing\n",
    "\n",
    "use kb's stuff as a base\n",
    "\n",
    "for each log in dir:\n",
    "\n",
    "1. load logs \n",
    "2. process logs\n",
    "3. construct gmm\n",
    "4. run gmm\n",
    "5. plot results\n",
    "\n",
    "look for messed up logs\n",
    "\n",
    "consider results and think about what it means"
   ],
   "cell_type": "markdown",
   "metadata": {}
  },
  {
   "cell_type": "code",
   "execution_count": 2,
   "metadata": {},
   "outputs": [],
   "source": [
    "import os\n",
    "\n",
    "from common.input import load_log\n",
    "from common.model import interval, scale, pca, gmm\n",
    "from common.plot import plot_pca_2D, plot_pca_3D, plot_curves_prob\n",
    "from common.output import combine_curves_prob, combine_pca_prob"
   ]
  },
  {
   "cell_type": "code",
   "execution_count": null,
   "metadata": {},
   "outputs": [],
   "source": [
    "# load log from data and init data dictionary\n",
    "lazy = load_log(\"./logs/Lazy_D_400222042.las\")\n",
    "\n",
    "# grab interval of log by index\n",
    "lazy = interval(lazy, top=2500, bot=9500)\n",
    "\n",
    "# standard scale log with defaults\n",
    "lazy = scale(lazy)\n",
    "\n",
    "# run 3 component pca with defaults\n",
    "lazy = pca(lazy, n=3)\n",
    "\n",
    "# run gmm on scaled curves\n",
    "lazy = gmm(lazy, n=4, key=\"base_curves\")\n",
    "\n",
    "# merge gmm clusters to base curves \n",
    "lazy = combine_curves_prob(lazy)\n",
    "\n",
    "# merge gmm clusters to pca components\n",
    "lazy = combine_pca_prob(lazy)"
   ]
  },
  {
   "cell_type": "code",
   "execution_count": null,
   "metadata": {},
   "outputs": [],
   "source": [
    "# print contents of log data dictionary\n",
    "for k,v in lazy.items():\n",
    "    if not isinstance(v, str):\n",
    "        print(k,type(v))\n",
    "    else:\n",
    "        print(k,v)\n",
    "\n",
    "# print dimension of arrays and dataframes\n",
    "print(f\"base df: {lazy['base_curves'].shape}\")\n",
    "print(f\"merged df: {lazy['merged_curves'].shape}\")\n",
    "print(f\"soft arr: {lazy['soft_clusters'].shape}\")\n",
    "print(f\"hard arr: {lazy['hard_clusters'].shape}\")\n",
    "print(f\"pca arr: {lazy['pca_curves'].shape}\")\n",
    "print(f\"merged pca: {lazy['merged_pca'].shape}\")\n"
   ]
  },
  {
   "cell_type": "code",
   "execution_count": null,
   "metadata": {},
   "outputs": [],
   "source": [
    "# plot 2D pca with clusters\n",
    "plot_pca_2D(lazy, key=\"merged_pca\")\n",
    "\n",
    "# plot 3D pca with clusters\n",
    "plot_pca_3D(lazy, key=\"merged_pca\")\n",
    "\n",
    "\n",
    "# FIXME: adjust curve names in plot\n",
    "# plot base log curves and clusters in log view\n",
    "plot_curves_prob(lazy)"
   ]
  }
 ]
}
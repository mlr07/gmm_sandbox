{
 "metadata": {
  "language_info": {
   "codemirror_mode": {
    "name": "ipython",
    "version": 3
   },
   "file_extension": ".py",
   "mimetype": "text/x-python",
   "name": "python",
   "nbconvert_exporter": "python",
   "pygments_lexer": "ipython3",
   "version": "3.8.6-final"
  },
  "orig_nbformat": 2,
  "kernelspec": {
   "name": "python3",
   "display_name": "Python 3.8.6 64-bit ('proj')",
   "metadata": {
    "interpreter": {
     "hash": "b018a174ba5ee006e1e1e1c053debcfb049a0764c4b5550ae266487496a93d01"
    }
   }
  }
 },
 "nbformat": 4,
 "nbformat_minor": 2,
 "cells": [
  {
   "source": [
    "## gmm sandbox\n",
    "\n",
    "focus on making modules and importing\n",
    "\n",
    "use kb's stuff as a base\n",
    "\n",
    "for each log in dir:\n",
    "\n",
    "1. load logs \n",
    "2. process logs\n",
    "3. construct gmm\n",
    "4. run gmm\n",
    "5. plot results\n",
    "\n",
    "look for messed up logs\n",
    "\n",
    "consider results and think about what it means"
   ],
   "cell_type": "markdown",
   "metadata": {}
  },
  {
   "cell_type": "code",
   "execution_count": 1,
   "metadata": {},
   "outputs": [
    {
     "output_type": "stream",
     "name": "stdout",
     "text": [
      "/home/mlr/Desktop/gmm_sandbox/notebooks\n/home/mlr/Desktop/gmm_sandbox\n"
     ]
    }
   ],
   "source": [
    "import os\n",
    "from pathlib import Path\n",
    "\n",
    "# run cell once or path will break\n",
    "print(os.getcwd())\n",
    "os.chdir(Path(os.getcwd()).parent)\n",
    "print(os.getcwd())"
   ]
  },
  {
   "cell_type": "code",
   "execution_count": 5,
   "metadata": {},
   "outputs": [],
   "source": [
    "from common.input import load_log\n",
    "from common.model import interval, scale, pca, pca_rank, gmm\n",
    "from common.plot import plot_pca_2D, plot_pca_3D, plot_pca_rank, plot_curves_prob\n",
    "from common.output import combine_curves_prob, combine_pca_prob"
   ]
  },
  {
   "cell_type": "code",
   "execution_count": 6,
   "metadata": {},
   "outputs": [
    {
     "output_type": "stream",
     "name": "stdout",
     "text": [
      "LOG LOADED\n",
      "PCA COMPLETE\n",
      "GMM COMPLETE\n",
      "LOGS AND CLUSTERS MERGED\n",
      "PCA AND CLUSTERS MERGED\n"
     ]
    }
   ],
   "source": [
    "# load log from data and init data dictionary\n",
    "cols = [\"SP\", \"GR\", \"RT90\", \"NPHI_COMP\", \"RHOB\", \"PE\"]\n",
    "data = \"./logs/Lazy_D_400222042.las\"\n",
    "lazy = load_log(data, cols)\n",
    "\n",
    "# grab interval of log by index\n",
    "lazy = interval(lazy, top=8000, bot=9000)\n",
    "\n",
    "# # standard scale log with defaults\n",
    "lazy = scale(lazy)\n",
    "\n",
    "# # run 3 component pca with defaults\n",
    "lazy = pca(lazy)\n",
    "\n",
    "# # run feature rank on pca\n",
    "lazy = pca_rank(lazy)\n",
    "\n",
    "# # run gmm on scaled curves\n",
    "lazy = gmm(lazy, n=2)\n",
    "\n",
    "# # merge gmm clusters to base curves \n",
    "lazy = combine_curves_prob(lazy)\n",
    "\n",
    "# # merge gmm clusters to pca components\n",
    "lazy = combine_pca_prob(lazy)"
   ]
  },
  {
   "cell_type": "code",
   "execution_count": 7,
   "metadata": {},
   "outputs": [
    {
     "output_type": "stream",
     "name": "stdout",
     "text": [
      "las: <class 'lasio.las.LASFile'>\nwell_name: LAZY-D ZN 3-9\nbase_curves: <class 'pandas.core.frame.DataFrame'>\ninterval_top: <class 'int'>\ninterval_bot: <class 'int'>\nscaled_curves: <class 'numpy.ndarray'>\npca_curves: <class 'numpy.ndarray'>\npca_expvar: <class 'numpy.ndarray'>\npca_rank: <class 'pandas.core.frame.DataFrame'>\nsoft_clusters: <class 'numpy.ndarray'>\nhard_clusters: <class 'numpy.ndarray'>\ncluster_n: <class 'int'>\nmerged_curves: <class 'pandas.core.frame.DataFrame'>\nmerged_pca: <class 'pandas.core.frame.DataFrame'>\n--------------------------------------------------\nbase df: (2001, 6)\nsoft arr: (2001, 2)\nhard arr: (2001,)\npca arr: (2001, 6)\npca expvar: (2001, 6)\npca rank: (6, 6)\nmerged df: (2001, 8)\nmerged pca: (2001, 8)\n"
     ]
    }
   ],
   "source": [
    "for k,v in lazy.items():\n",
    "    if not isinstance(v, str):\n",
    "        print(f\"{k}: {type(v)}\")\n",
    "    else:\n",
    "        print(f\"{k}: {v}\")\n",
    "\n",
    "print(\"-\"*50)\n",
    "\n",
    "# TODO: work into loop above\n",
    "print(f\"base df: {lazy['base_curves'].shape}\")\n",
    "print(f\"soft arr: {lazy['soft_clusters'].shape}\")\n",
    "print(f\"hard arr: {lazy['hard_clusters'].shape}\")\n",
    "print(f\"pca arr: {lazy['pca_curves'].shape}\")\n",
    "print(f\"pca expvar: {lazy['pca_curves'].shape}\")\n",
    "print(f\"pca rank: {lazy['pca_rank'].shape}\")\n",
    "print(f\"merged df: {lazy['merged_curves'].shape}\")\n",
    "print(f\"merged pca: {lazy['merged_pca'].shape}\")"
   ]
  },
  {
   "cell_type": "code",
   "execution_count": 8,
   "metadata": {},
   "outputs": [
    {
     "output_type": "execute_result",
     "data": {
      "text/plain": [
       "['0', '1']"
      ]
     },
     "metadata": {},
     "execution_count": 8
    }
   ],
   "source": [
    "df = lazy[\"merged_curves\"]\n",
    "test = list(range(0,len(df[\"soft_clusters\"].iloc[0])))\n",
    "[str(t) for t in test]"
   ]
  },
  {
   "cell_type": "code",
   "execution_count": 9,
   "metadata": {},
   "outputs": [
    {
     "output_type": "execute_result",
     "data": {
      "text/plain": [
       "[0.9999999999791986, 2.0801267322674972e-11]"
      ]
     },
     "metadata": {},
     "execution_count": 9
    }
   ],
   "source": [
    "df[\"soft_clusters\"].iloc[0]"
   ]
  },
  {
   "cell_type": "code",
   "execution_count": 10,
   "metadata": {},
   "outputs": [
    {
     "output_type": "execute_result",
     "data": {
      "text/plain": [
       "             SP        GR    RT90  NPHI_COMP    RHOB      PE  \\\n",
       "DEPT                                                           \n",
       "8000.0  60.0192  109.0224  3.5030     0.2423  2.5642  3.0618   \n",
       "8000.5  59.7120  110.2059  3.5513     0.2369  2.5743  3.0574   \n",
       "8001.0  59.3496  105.2788  3.6874     0.2282  2.5809  3.2409   \n",
       "8001.5  59.0965   99.6273  3.8342     0.2292  2.5701  3.3143   \n",
       "8002.0  58.7665  101.3662  3.9282     0.2203  2.5604  3.1588   \n",
       "\n",
       "                                       soft_clusters  hard_clusters  \n",
       "DEPT                                                                 \n",
       "8000.0  [0.9999999999791986, 2.0801267322674972e-11]              0  \n",
       "8000.5  [0.9999999999883162, 1.1683742195077445e-11]              0  \n",
       "8001.0   [0.9999999999913798, 8.620215993188577e-12]              0  \n",
       "8001.5   [0.9999999999772258, 2.277430636696767e-11]              0  \n",
       "8002.0  [0.9999999999983471, 1.6527950687074862e-12]              0  "
      ],
      "text/html": "<div>\n<style scoped>\n    .dataframe tbody tr th:only-of-type {\n        vertical-align: middle;\n    }\n\n    .dataframe tbody tr th {\n        vertical-align: top;\n    }\n\n    .dataframe thead th {\n        text-align: right;\n    }\n</style>\n<table border=\"1\" class=\"dataframe\">\n  <thead>\n    <tr style=\"text-align: right;\">\n      <th></th>\n      <th>SP</th>\n      <th>GR</th>\n      <th>RT90</th>\n      <th>NPHI_COMP</th>\n      <th>RHOB</th>\n      <th>PE</th>\n      <th>soft_clusters</th>\n      <th>hard_clusters</th>\n    </tr>\n    <tr>\n      <th>DEPT</th>\n      <th></th>\n      <th></th>\n      <th></th>\n      <th></th>\n      <th></th>\n      <th></th>\n      <th></th>\n      <th></th>\n    </tr>\n  </thead>\n  <tbody>\n    <tr>\n      <th>8000.0</th>\n      <td>60.0192</td>\n      <td>109.0224</td>\n      <td>3.5030</td>\n      <td>0.2423</td>\n      <td>2.5642</td>\n      <td>3.0618</td>\n      <td>[0.9999999999791986, 2.0801267322674972e-11]</td>\n      <td>0</td>\n    </tr>\n    <tr>\n      <th>8000.5</th>\n      <td>59.7120</td>\n      <td>110.2059</td>\n      <td>3.5513</td>\n      <td>0.2369</td>\n      <td>2.5743</td>\n      <td>3.0574</td>\n      <td>[0.9999999999883162, 1.1683742195077445e-11]</td>\n      <td>0</td>\n    </tr>\n    <tr>\n      <th>8001.0</th>\n      <td>59.3496</td>\n      <td>105.2788</td>\n      <td>3.6874</td>\n      <td>0.2282</td>\n      <td>2.5809</td>\n      <td>3.2409</td>\n      <td>[0.9999999999913798, 8.620215993188577e-12]</td>\n      <td>0</td>\n    </tr>\n    <tr>\n      <th>8001.5</th>\n      <td>59.0965</td>\n      <td>99.6273</td>\n      <td>3.8342</td>\n      <td>0.2292</td>\n      <td>2.5701</td>\n      <td>3.3143</td>\n      <td>[0.9999999999772258, 2.277430636696767e-11]</td>\n      <td>0</td>\n    </tr>\n    <tr>\n      <th>8002.0</th>\n      <td>58.7665</td>\n      <td>101.3662</td>\n      <td>3.9282</td>\n      <td>0.2203</td>\n      <td>2.5604</td>\n      <td>3.1588</td>\n      <td>[0.9999999999983471, 1.6527950687074862e-12]</td>\n      <td>0</td>\n    </tr>\n  </tbody>\n</table>\n</div>"
     },
     "metadata": {},
     "execution_count": 10
    }
   ],
   "source": [
    "df.head()"
   ]
  },
  {
   "cell_type": "code",
   "execution_count": 20,
   "metadata": {},
   "outputs": [
    {
     "output_type": "stream",
     "name": "stdout",
     "text": [
      "<class 'pandas.core.frame.DataFrame'>\nRangeIndex: 2001 entries, 0 to 2000\nData columns (total 8 columns):\n #   Column        Non-Null Count  Dtype  \n---  ------        --------------  -----  \n 0   PC_0          2001 non-null   float64\n 1   PC_1          2001 non-null   float64\n 2   PC_2          2001 non-null   float64\n 3   PC_3          2001 non-null   float64\n 4   PC_4          2001 non-null   float64\n 5   PC_5          2001 non-null   float64\n 6   hard_cluster  2001 non-null   float64\n 7   dept          2001 non-null   float64\ndtypes: float64(8)\nmemory usage: 125.2 KB\n"
     ]
    }
   ],
   "source": [
    "df_pca = lazy[\"merged_pca\"]\n",
    "df_pca.info()\n"
   ]
  },
  {
   "cell_type": "code",
   "execution_count": null,
   "metadata": {},
   "outputs": [],
   "source": [
    "depth = lazy[\"base_curves\"].index.values.reshape((-1,1))\n",
    "depth"
   ]
  },
  {
   "cell_type": "code",
   "execution_count": null,
   "metadata": {},
   "outputs": [],
   "source": []
  },
  {
   "cell_type": "code",
   "execution_count": null,
   "metadata": {},
   "outputs": [],
   "source": []
  },
  {
   "cell_type": "code",
   "execution_count": null,
   "metadata": {},
   "outputs": [],
   "source": []
  },
  {
   "cell_type": "code",
   "execution_count": null,
   "metadata": {},
   "outputs": [],
   "source": [
    "# plot 2D pca with clusters\n",
    "plot_pca_2D(lazy, key=\"merged_pca\")\n",
    "\n",
    "# plot 3D pca with clusters\n",
    "plot_pca_3D(lazy, key=\"merged_pca\")\n",
    "\n",
    "# plot pca feature rank\n",
    "plot_pca_rank(lazy, key=\"pca_rank\")\n",
    "\n",
    "# FIXME: adjust curve names in plot\n",
    "# plot base log curves and clusters in log view\n",
    "plot_curves_prob(lazy)"
   ]
  },
  {
   "cell_type": "code",
   "execution_count": null,
   "metadata": {},
   "outputs": [],
   "source": [
    "import plotly\n",
    "print(plotly.__version__)\n",
    "import numpy as np\n",
    "import plotly.graph_objects as go\n",
    "\n",
    "def discrete_colorscale(bvals, colors):\n",
    "    \"\"\"\n",
    "    bvals - list of values bounding intervals/ranges of interest\n",
    "    colors - list of rgb or hex colorcodes for values in [bvals[k], bvals[k+1]],0<=k < len(bvals)-1\n",
    "    returns the plotly  discrete colorscale\n",
    "    \"\"\"\n",
    "    if len(bvals) != len(colors)+1:\n",
    "        raise ValueError('len(boundary values) should be equal to  len(colors)+1')\n",
    "    bvals = sorted(bvals)     \n",
    "    nvals = [(v-bvals[0])/(bvals[-1]-bvals[0]) for v in bvals]  #normalized values\n",
    "    \n",
    "    dcolorscale = [] #discrete colorscale\n",
    "    for k in range(len(colors)):\n",
    "        dcolorscale.extend([[nvals[k], colors[k]], [nvals[k+1], colors[k]]])\n",
    "    return dcolorscale \n",
    "\n",
    "bvals = [2, 15, 40, 65, 90]\n",
    "\n",
    "# NOTE: still need to define the colors manually...\n",
    "colors = ['#09ffff', '#19d3f3', '#e763fa' , '#ab63fa']\n",
    "\n",
    "dcolorsc = discrete_colorscale(bvals, colors)\n",
    "\n",
    "bvals = np.array(bvals)\n",
    "\n",
    "tickvals = [np.mean(bvals[k:k+2]) for k in range(len(bvals)-1)] #position with respect to bvals where ticktext is displayed\n",
    "ticktext = [f'<{bvals[1]}'] + [f'{bvals[k]}-{bvals[k+1]}' for k in range(1, len(bvals)-2)]+[f'>{bvals[-2]}']"
   ]
  },
  {
   "cell_type": "code",
   "execution_count": null,
   "metadata": {},
   "outputs": [],
   "source": [
    "z = np.random.randint(bvals[0],  bvals[-1]+1, size=(20, 20))\n",
    "\n",
    "heatmap = go.Heatmap(z=z, \n",
    "                     colorscale = dcolorsc, \n",
    "                     colorbar = dict(thickness=25, \n",
    "                                     tickvals=tickvals, \n",
    "                                     ticktext=ticktext))\n",
    "\n",
    "fig = go.Figure(data=[heatmap])\n",
    "fig.update_layout(width=500, height=500)\n",
    "\n",
    "fig.show()"
   ]
  },
  {
   "cell_type": "code",
   "execution_count": null,
   "metadata": {},
   "outputs": [],
   "source": [
    "import plotly.express as px\n",
    "\n",
    "g10 = px.colors.qualitative.G10\n",
    "print(type(g10))\n",
    "\n",
    "unique = df[\"hard_clusters\"].unique()\n",
    "\n",
    "colors = [g10[u] for u in unique]\n",
    "print(colors)"
   ]
  },
  {
   "cell_type": "code",
   "execution_count": null,
   "metadata": {},
   "outputs": [],
   "source": []
  }
 ]
}